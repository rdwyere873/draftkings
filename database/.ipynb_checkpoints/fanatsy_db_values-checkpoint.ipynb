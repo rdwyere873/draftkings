{
 "cells": [
  {
   "cell_type": "code",
   "execution_count": 17,
   "metadata": {},
   "outputs": [],
   "source": [
    "from sqlalchemy.orm import sessionmaker\n",
    "from sqlalchemy import create_engine\n",
    "from create_nfl_database import NflSeason, NflTeam, NflWeek, Position, Player, PlayerStats\n",
    "from sqlalchemy.orm import relationship, backref\n",
    "import pandas as pd\n",
    "import numpy as np\n",
    "\n",
    "\n",
    "\n",
    "engine = create_engine('sqlite:///nfl_fantasy.db')\n"
   ]
  },
  {
   "cell_type": "code",
   "execution_count": 9,
   "metadata": {
    "collapsed": true
   },
   "outputs": [],
   "source": [
    "Base.metadata.bind = engine\n"
   ]
  },
  {
   "cell_type": "code",
   "execution_count": 10,
   "metadata": {
    "collapsed": true
   },
   "outputs": [],
   "source": [
    "DBSession = sessionmaker(bind=engine)\n",
    "session = DBSession()"
   ]
  },
  {
   "cell_type": "code",
   "execution_count": 28,
   "metadata": {},
   "outputs": [],
   "source": [
    "season= ['2102', '2013','2014', '2015','2016']\n",
    "week = [1,  2,  3,  4,  5,  6,  7,  8,  9, 10, 11, 12, 13, 14, 15, 16,\n",
    "       17]"
   ]
  },
  {
   "cell_type": "code",
   "execution_count": 29,
   "metadata": {
    "collapsed": true
   },
   "outputs": [],
   "source": [
    "#Populate nfl_season SQL table\n",
    "for sea in season:\n",
    "    new_season = NflSeason(season=sea)\n",
    "    session.add(new_season)\n",
    "    session.commit()"
   ]
  },
  {
   "cell_type": "code",
   "execution_count": 30,
   "metadata": {
    "collapsed": true
   },
   "outputs": [],
   "source": [
    "#Populate nfl_week table\n",
    "for wk in week:\n",
    "    new_week = NflWeek(week=wk)\n",
    "    session.add(new_week)\n",
    "    session.commit()"
   ]
  },
  {
   "cell_type": "code",
   "execution_count": 32,
   "metadata": {},
   "outputs": [
    {
     "data": {
      "text/html": [
       "<div>\n",
       "<style>\n",
       "    .dataframe thead tr:only-child th {\n",
       "        text-align: right;\n",
       "    }\n",
       "\n",
       "    .dataframe thead th {\n",
       "        text-align: left;\n",
       "    }\n",
       "\n",
       "    .dataframe tbody tr th {\n",
       "        vertical-align: top;\n",
       "    }\n",
       "</style>\n",
       "<table border=\"1\" class=\"dataframe\">\n",
       "  <thead>\n",
       "    <tr style=\"text-align: right;\">\n",
       "      <th></th>\n",
       "      <th>id</th>\n",
       "      <th>season</th>\n",
       "    </tr>\n",
       "  </thead>\n",
       "  <tbody>\n",
       "    <tr>\n",
       "      <th>0</th>\n",
       "      <td>1</td>\n",
       "      <td>2102</td>\n",
       "    </tr>\n",
       "    <tr>\n",
       "      <th>1</th>\n",
       "      <td>2</td>\n",
       "      <td>2013</td>\n",
       "    </tr>\n",
       "    <tr>\n",
       "      <th>2</th>\n",
       "      <td>3</td>\n",
       "      <td>2014</td>\n",
       "    </tr>\n",
       "    <tr>\n",
       "      <th>3</th>\n",
       "      <td>4</td>\n",
       "      <td>2015</td>\n",
       "    </tr>\n",
       "    <tr>\n",
       "      <th>4</th>\n",
       "      <td>5</td>\n",
       "      <td>2016</td>\n",
       "    </tr>\n",
       "  </tbody>\n",
       "</table>\n",
       "</div>"
      ],
      "text/plain": [
       "   id season\n",
       "0   1   2102\n",
       "1   2   2013\n",
       "2   3   2014\n",
       "3   4   2015\n",
       "4   5   2016"
      ]
     },
     "execution_count": 32,
     "metadata": {},
     "output_type": "execute_result"
    }
   ],
   "source": [
    "SQL_QUERY = '''\n",
    "        SELECT * \n",
    "        FROM nfl_season'''\n",
    "pd.read_sql(SQL_QUERY, con =engine)"
   ]
  },
  {
   "cell_type": "code",
   "execution_count": null,
   "metadata": {
    "collapsed": true
   },
   "outputs": [],
   "source": [
    "Arizona,Arizona Cardinals\n",
    "California,Los Angeles Rams\n",
    "Los Angeles Chargers\n",
    "Oakland Raiders\n",
    "San Francisco 49ers\n",
    "Colorado\tDenver Broncos\n",
    "Florida\tJacksonville Jaguars\n",
    "Miami Dolphins\n",
    "Tampa Bay Buccaneers\n",
    "Georgia\tAtlanta Falcons\n",
    "Illinois\tChicago Bears\n",
    "Indiana\tIndianapolis Colts\n",
    "Louisiana\tNew Orleans Saints\n",
    "Maryland\tBaltimore Ravens\n",
    "Washington Redskins\n",
    "Massachusetts\tNew England Patriots\n",
    "Michigan\tDetroit Lions\n",
    "Minnesota\tMinnesota Vikings\n",
    "Missouri\tKansas City Chiefs\n",
    "New Jersey\tNew York Giants\n",
    "New York Jets\n",
    "New York\tBuffalo Bills\n",
    "North Carolina\tCarolina Panthers\n",
    "Ohio\tCincinnati Bengals\n",
    "Cleveland Browns\n",
    "Pennsylvania\tPhiladelphia Eagles\n",
    "Pittsburgh Steelers\n",
    "Tennessee\tTennessee Titans\n",
    "Texas\tDallas Cowboys\n",
    "Houston Texans\n",
    "Washington\tSeattle Seahawks\n",
    "Wisconsin\tGreen Bay Packe"
   ]
  },
  {
   "cell_type": "code",
   "execution_count": null,
   "metadata": {
    "collapsed": true
   },
   "outputs": [],
   "source": []
  },
  {
   "cell_type": "code",
   "execution_count": null,
   "metadata": {
    "collapsed": true
   },
   "outputs": [],
   "source": []
  }
 ],
 "metadata": {
  "kernelspec": {
   "display_name": "Python 3",
   "language": "python",
   "name": "python3"
  },
  "language_info": {
   "codemirror_mode": {
    "name": "ipython",
    "version": 3
   },
   "file_extension": ".py",
   "mimetype": "text/x-python",
   "name": "python",
   "nbconvert_exporter": "python",
   "pygments_lexer": "ipython3",
   "version": "3.6.2"
  }
 },
 "nbformat": 4,
 "nbformat_minor": 2
}
