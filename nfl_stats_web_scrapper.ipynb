{
 "cells": [
  {
   "cell_type": "code",
   "execution_count": 129,
   "metadata": {
    "collapsed": true
   },
   "outputs": [],
   "source": [
    "from urllib.request import urlopen\n",
    "import requests\n",
    "from bs4 import BeautifulSoup\n",
    "import pandas as pd"
   ]
  },
  {
   "cell_type": "code",
   "execution_count": 203,
   "metadata": {
    "collapsed": true
   },
   "outputs": [],
   "source": [
    "pos = ['QB', 'RB', 'WR', 'TE', 'DST', 'K']\n",
    "wk = ['1','2','3','4', '5','6','7','8','9','10','11','12','13','14','15','16','17']\n",
    "sea = ['2012', '2013','2014','2015','2016']\n"
   ]
  },
  {
   "cell_type": "code",
   "execution_count": 221,
   "metadata": {},
   "outputs": [],
   "source": [
    "for idx,wk in enumerate(wk):\n",
    "    html_wk= urlopen('http://www.footballdb.com/fantasy-football/index.html?pos=QB&yr=2012&wk={}&rules=1'.format(wk))\n",
    "    bsobj[idx]= BeautifulSoup(html_wk, 'lxml')\n",
    "    break"
   ]
  },
  {
   "cell_type": "code",
   "execution_count": 229,
   "metadata": {},
   "outputs": [
    {
     "data": {
      "text/plain": [
       "3"
      ]
     },
     "execution_count": 229,
     "metadata": {},
     "output_type": "execute_result"
    }
   ],
   "source": [
    "len(bsobj)"
   ]
  },
  {
   "cell_type": "code",
   "execution_count": 134,
   "metadata": {},
   "outputs": [],
   "source": [
    "#create dictionary of QB's and stats for relevant week\n",
    "qb_dict= {\n",
    "        'qb':\n",
    "            {\n",
    "                'ff_pts':'pts',\n",
    "                'passing':['att', 'cmp', 'yds', 'tds', 'int', '2pt'],\n",
    "                'rushing': ['att', 'yds', 'tds', '2pt'],\n",
    "                'recieving':['rec', 'yds', 'tds', '2pt'],\n",
    "                'fumbles': 'fl',\n",
    "                'versus':'def'\n",
    "            }\n",
    "}"
   ]
  },
  {
   "cell_type": "code",
   "execution_count": 136,
   "metadata": {},
   "outputs": [],
   "source": [
    "qb_dict = {'matt_ryan':{\n",
    "                        'ffpt': 37.0,\n",
    "                        'fl':0,\n",
    "                        'passing':[31.0, 23.0, 99.0, 3, 0, 0],\n",
    "                        'rushing':[3, 25.0, 1.0, 0],\n",
    "                        'receiving':[0.0, 0.0, 0.0, 0.0]\n",
    "                        }\n",
    "            }"
   ]
  },
  {
   "cell_type": "code",
   "execution_count": 48,
   "metadata": {},
   "outputs": [
    {
     "data": {
      "text/plain": [
       "float"
      ]
     },
     "execution_count": 48,
     "metadata": {},
     "output_type": "execute_result"
    }
   ],
   "source": [
    "type(qb_dict['matt_ryan']['ffpt'])"
   ]
  },
  {
   "cell_type": "code",
   "execution_count": 219,
   "metadata": {},
   "outputs": [
    {
     "data": {
      "text/plain": [
       "<tbody>\n",
       "<tr class=\"row0 right\"><td class=\"left\"><span class=\"hidden-xs\"><a href=\"/players/drew-brees-breesdr01\">Drew Brees</a>, NO</span><span class=\"visible-xs-inline\"><a href=\"/players/drew-brees-breesdr01\">D. Brees</a>, NO</span></td><td class=\"left\">@TB</td><td class=\"hilite\">37.00</td><td>37</td><td>27</td><td>377</td><td>4</td><td>1</td><td>0</td><td>1</td><td>1</td><td>0</td><td>0</td><td>0</td><td>0</td><td>0</td><td>0</td><td>0</td><td>0</td></tr>\n",
       "<tr class=\"row1 right\"><td class=\"left\"><span class=\"hidden-xs\"><a href=\"/players/josh-freeman-freemjo01\">Josh Freeman</a>, TB</span><span class=\"visible-xs-inline\"><a href=\"/players/josh-freeman-freemjo01\">J. Freeman</a>, TB</span></td><td class=\"left\">NO</td><td class=\"hilite\">35.00</td><td>42</td><td>24</td><td>420</td><td>3</td><td>0</td><td>0</td><td>1</td><td>13</td><td>0</td><td>0</td><td>0</td><td>0</td><td>0</td><td>0</td><td>0</td><td>0</td></tr>\n",
       "<tr class=\"row0 right\"><td class=\"left\"><span class=\"hidden-xs\"><a href=\"/players/aaron-rodgers-rodgeaa01\">Aaron Rodgers</a>, GB</span><span class=\"visible-xs-inline\"><a href=\"/players/aaron-rodgers-rodgeaa01\">A. Rodgers</a>, GB</span></td><td class=\"left\">@Stl</td><td class=\"hilite\">31.00</td><td>37</td><td>30</td><td>342</td><td>3</td><td>0</td><td>0</td><td>2</td><td>0</td><td>0</td><td>0</td><td>0</td><td>0</td><td>0</td><td>0</td><td>0</td><td>0</td></tr>\n",
       "<tr class=\"row1 right\"><td class=\"left\"><span class=\"hidden-xs\"><a href=\"/players/robert-griffin-griffro02\">Robert Griffin III</a>, Was</span><span class=\"visible-xs-inline\"><a href=\"/players/robert-griffin-griffro02\">R. Griffin</a>, Was</span></td><td class=\"left\">@NYG</td><td class=\"hilite\">27.00</td><td>28</td><td>20</td><td>258</td><td>2</td><td>1</td><td>0</td><td>9</td><td>89</td><td>0</td><td>0</td><td>0</td><td>0</td><td>0</td><td>0</td><td>1</td><td>0</td></tr>\n",
       "<tr class=\"row0 right\"><td class=\"left\"><span class=\"hidden-xs\"><a href=\"/players/ryan-fitzpatrick-fitzpry01\">Ryan Fitzpatrick</a>, Buf</span><span class=\"visible-xs-inline\"><a href=\"/players/ryan-fitzpatrick-fitzpry01\">R. Fitzpatrick</a>, Buf</span></td><td class=\"left\">Ten</td><td class=\"hilite\">26.00</td><td>35</td><td>27</td><td>225</td><td>3</td><td>1</td><td>0</td><td>2</td><td>23</td><td>0</td><td>0</td><td>0</td><td>0</td><td>0</td><td>0</td><td>1</td><td>0</td></tr>\n",
       "<tr class=\"row1 right\"><td class=\"left\"><span class=\"hidden-xs\"><a href=\"/players/brandon-weeden-weedebr01\">Brandon Weeden</a>, Cle</span><span class=\"visible-xs-inline\"><a href=\"/players/brandon-weeden-weedebr01\">B. Weeden</a>, Cle</span></td><td class=\"left\">@Ind</td><td class=\"hilite\">23.00</td><td>41</td><td>25</td><td>264</td><td>2</td><td>0</td><td>0</td><td>1</td><td>13</td><td>0</td><td>0</td><td>0</td><td>-9</td><td>0</td><td>0</td><td>0</td><td>0</td></tr>\n",
       "<tr class=\"row0 right\"><td class=\"left\"><span class=\"hidden-xs\"><a href=\"/players/matt-schaub-schauma01\">Matt Schaub</a>, Hou</span><span class=\"visible-xs-inline\"><a href=\"/players/matt-schaub-schauma01\">M. Schaub</a>, Hou</span></td><td class=\"left\">Bal</td><td class=\"hilite\">22.00</td><td>37</td><td>23</td><td>256</td><td>2</td><td>0</td><td>0</td><td>1</td><td>-2</td><td>0</td><td>0</td><td>0</td><td>0</td><td>0</td><td>0</td><td>0</td><td>0</td></tr>\n",
       "<tr class=\"row1 right\"><td class=\"left\"><span class=\"hidden-xs\"><a href=\"/players/tom-brady-bradyto01\">Tom Brady</a>, NE</span><span class=\"visible-xs-inline\"><a href=\"/players/tom-brady-bradyto01\">T. Brady</a>, NE</span></td><td class=\"left\">NYJ</td><td class=\"hilite\">22.00</td><td>42</td><td>26</td><td>259</td><td>2</td><td>0</td><td>0</td><td>0</td><td>0</td><td>0</td><td>0</td><td>0</td><td>0</td><td>0</td><td>0</td><td>0</td><td>0</td></tr>\n",
       "<tr class=\"row0 right\"><td class=\"left\"><span class=\"hidden-xs\"><a href=\"/players/carson-palmer-palmeca01\">Carson Palmer</a>, Oak</span><span class=\"visible-xs-inline\"><a href=\"/players/carson-palmer-palmeca01\">C. Palmer</a>, Oak</span></td><td class=\"left\">Jax</td><td class=\"hilite\">21.00</td><td>46</td><td>26</td><td>298</td><td>1</td><td>1</td><td>0</td><td>6</td><td>14</td><td>1</td><td>0</td><td>0</td><td>0</td><td>0</td><td>0</td><td>1</td><td>0</td></tr>\n",
       "<tr class=\"row1 right\"><td class=\"left\"><span class=\"hidden-xs\"><a href=\"/players/andrew-luck-luckan01\">Andrew Luck</a>, Ind</span><span class=\"visible-xs-inline\"><a href=\"/players/andrew-luck-luckan01\">A. Luck</a>, Ind</span></td><td class=\"left\">Cle</td><td class=\"hilite\">19.00</td><td>29</td><td>16</td><td>186</td><td>0</td><td>0</td><td>0</td><td>3</td><td>12</td><td>2</td><td>0</td><td>0</td><td>0</td><td>0</td><td>0</td><td>1</td><td>0</td></tr>\n",
       "<tr class=\"row0 right\"><td class=\"left\"><span class=\"hidden-xs\"><a href=\"/players/cam-newton-newtoca02\">Cam Newton</a>, Car</span><span class=\"visible-xs-inline\"><a href=\"/players/cam-newton-newtoca02\">C. Newton</a>, Car</span></td><td class=\"left\">Dal</td><td class=\"hilite\">18.00</td><td>37</td><td>21</td><td>233</td><td>1</td><td>1</td><td>0</td><td>6</td><td>64</td><td>0</td><td>0</td><td>0</td><td>6</td><td>0</td><td>0</td><td>1</td><td>0</td></tr>\n",
       "<tr class=\"row1 right\"><td class=\"left\"><span class=\"hidden-xs\"><a href=\"/players/matthew-stafford-staffma01\">Matthew Stafford</a>, Det</span><span class=\"visible-xs-inline\"><a href=\"/players/matthew-stafford-staffma01\">M. Stafford</a>, Det</span></td><td class=\"left\">@Chi</td><td class=\"hilite\">16.00</td><td>46</td><td>28</td><td>263</td><td>1</td><td>1</td><td>0</td><td>3</td><td>21</td><td>0</td><td>0</td><td>0</td><td>0</td><td>0</td><td>0</td><td>0</td><td>0</td></tr>\n",
       "<tr class=\"row0 right\"><td class=\"left\"><span class=\"hidden-xs\"><a href=\"/players/mark-sanchez-sanchma01\">Mark Sanchez</a>, NYJ</span><span class=\"visible-xs-inline\"><a href=\"/players/mark-sanchez-sanchma01\">M. Sanchez</a>, NYJ</span></td><td class=\"left\">@NE</td><td class=\"hilite\">16.00</td><td>41</td><td>28</td><td>328</td><td>1</td><td>1</td><td>0</td><td>1</td><td>0</td><td>0</td><td>0</td><td>0</td><td>0</td><td>0</td><td>0</td><td>1</td><td>0</td></tr>\n",
       "<tr class=\"row1 right\"><td class=\"left\"><span class=\"hidden-xs\"><a href=\"/players/tony-romo-romoto01\">Tony Romo</a>, Dal</span><span class=\"visible-xs-inline\"><a href=\"/players/tony-romo-romoto01\">T. Romo</a>, Dal</span></td><td class=\"left\">@Car</td><td class=\"hilite\">16.00</td><td>34</td><td>24</td><td>227</td><td>1</td><td>0</td><td>0</td><td>3</td><td>11</td><td>0</td><td>0</td><td>0</td><td>0</td><td>0</td><td>0</td><td>0</td><td>0</td></tr>\n",
       "<tr class=\"row0 right\"><td class=\"left\"><span class=\"hidden-xs\"><a href=\"/players/ben-roethlisberger-roethbe01\">Ben Roethlisberger</a>, Pit</span><span class=\"visible-xs-inline\"><a href=\"/players/ben-roethlisberger-roethbe01\">B. Roethlisberger</a>, Pit</span></td><td class=\"left\">@Cin</td><td class=\"hilite\">16.00</td><td>37</td><td>27</td><td>278</td><td>1</td><td>1</td><td>1</td><td>1</td><td>-1</td><td>0</td><td>0</td><td>0</td><td>0</td><td>0</td><td>0</td><td>1</td><td>0</td></tr>\n",
       "<tr class=\"row1 right\"><td class=\"left\"><span class=\"hidden-xs\"><a href=\"/players/eli-manning-manniel01\">Eli Manning</a>, NYG</span><span class=\"visible-xs-inline\"><a href=\"/players/eli-manning-manniel01\">E. Manning</a>, NYG</span></td><td class=\"left\">Was</td><td class=\"hilite\">15.00</td><td>40</td><td>26</td><td>337</td><td>1</td><td>2</td><td>0</td><td>2</td><td>4</td><td>0</td><td>0</td><td>0</td><td>0</td><td>0</td><td>0</td><td>0</td><td>0</td></tr>\n",
       "<tr class=\"row0 right\"><td class=\"left\"><span class=\"hidden-xs\"><a href=\"/players/jay-cutler-cutleja01\">Jay Cutler</a>, Chi</span><span class=\"visible-xs-inline\"><a href=\"/players/jay-cutler-cutleja01\">J. Cutler</a>, Chi</span></td><td class=\"left\">Det</td><td class=\"hilite\">15.00</td><td>31</td><td>16</td><td>150</td><td>1</td><td>0</td><td>0</td><td>3</td><td>34</td><td>0</td><td>0</td><td>0</td><td>0</td><td>0</td><td>0</td><td>0</td><td>0</td></tr>\n",
       "<tr class=\"row1 right\"><td class=\"left\"><span class=\"hidden-xs\"><a href=\"/players/matt-hasselbeck-hassema01\">Matt Hasselbeck</a>, Ten</span><span class=\"visible-xs-inline\"><a href=\"/players/matt-hasselbeck-hassema01\">M. Hasselbeck</a>, Ten</span></td><td class=\"left\">@Buf</td><td class=\"hilite\">14.00</td><td>33</td><td>22</td><td>205</td><td>1</td><td>0</td><td>0</td><td>1</td><td>-2</td><td>0</td><td>0</td><td>0</td><td>0</td><td>0</td><td>0</td><td>0</td><td>0</td></tr>\n",
       "<tr class=\"row0 right\"><td class=\"left\"><span class=\"hidden-xs\"><a href=\"/players/sam-bradford-bradfsa01\">Sam Bradford</a>, Stl</span><span class=\"visible-xs-inline\"><a href=\"/players/sam-bradford-bradfsa01\">S. Bradford</a>, Stl</span></td><td class=\"left\">GB</td><td class=\"hilite\">14.00</td><td>34</td><td>21</td><td>255</td><td>1</td><td>1</td><td>0</td><td>0</td><td>0</td><td>0</td><td>0</td><td>0</td><td>0</td><td>0</td><td>0</td><td>0</td><td>0</td></tr>\n",
       "<tr class=\"row1 right\"><td class=\"left\"><span class=\"hidden-xs\"><a href=\"/players/john-skelton-skeltjo01\">John Skelton</a>, Ari</span><span class=\"visible-xs-inline\"><a href=\"/players/john-skelton-skeltjo01\">J. Skelton</a>, Ari</span></td><td class=\"left\">@Min</td><td class=\"hilite\">13.00</td><td>36</td><td>25</td><td>262</td><td>1</td><td>1</td><td>0</td><td>0</td><td>0</td><td>0</td><td>0</td><td>0</td><td>0</td><td>0</td><td>0</td><td>1</td><td>0</td></tr>\n",
       "<tr class=\"row0 right\"><td class=\"left\"><span class=\"hidden-xs\"><a href=\"/players/alex-smith-smithal04\">Alex Smith</a>, SF</span><span class=\"visible-xs-inline\"><a href=\"/players/alex-smith-smithal04\">A. Smith</a>, SF</span></td><td class=\"left\">Sea</td><td class=\"hilite\">10.00</td><td>23</td><td>14</td><td>140</td><td>1</td><td>1</td><td>0</td><td>5</td><td>11</td><td>0</td><td>0</td><td>0</td><td>0</td><td>0</td><td>0</td><td>0</td><td>0</td></tr>\n",
       "<tr class=\"row1 right\"><td class=\"left\"><span class=\"hidden-xs\"><a href=\"/players/blaine-gabbert-gabbebl01\">Blaine Gabbert</a>, Jax</span><span class=\"visible-xs-inline\"><a href=\"/players/blaine-gabbert-gabbebl01\">B. Gabbert</a>, Jax</span></td><td class=\"left\">@Oak</td><td class=\"hilite\">10.00</td><td>12</td><td>8</td><td>110</td><td>1</td><td>0</td><td>0</td><td>0</td><td>0</td><td>0</td><td>0</td><td>0</td><td>0</td><td>0</td><td>0</td><td>0</td><td>0</td></tr>\n",
       "<tr class=\"row0 right\"><td class=\"left\"><span class=\"hidden-xs\"><a href=\"/players/andy-dalton-daltoan02\">Andy Dalton</a>, Cin</span><span class=\"visible-xs-inline\"><a href=\"/players/andy-dalton-daltoan02\">A. Dalton</a>, Cin</span></td><td class=\"left\">Pit</td><td class=\"hilite\">8.00</td><td>28</td><td>14</td><td>105</td><td>1</td><td>1</td><td>0</td><td>1</td><td>-1</td><td>0</td><td>0</td><td>0</td><td>0</td><td>0</td><td>0</td><td>0</td><td>0</td></tr>\n",
       "<tr class=\"row1 right\"><td class=\"left\"><span class=\"hidden-xs\"><a href=\"/players/joe-flacco-flaccjo01\">Joe Flacco</a>, Bal</span><span class=\"visible-xs-inline\"><a href=\"/players/joe-flacco-flaccjo01\">J. Flacco</a>, Bal</span></td><td class=\"left\">@Hou</td><td class=\"hilite\">7.00</td><td>43</td><td>21</td><td>147</td><td>1</td><td>2</td><td>0</td><td>2</td><td>7</td><td>0</td><td>0</td><td>0</td><td>0</td><td>0</td><td>0</td><td>0</td><td>0</td></tr>\n",
       "<tr class=\"row0 right\"><td class=\"left\"><span class=\"hidden-xs\"><a href=\"/players/christian-ponder-pondech01\">Christian Ponder</a>, Min</span><span class=\"visible-xs-inline\"><a href=\"/players/christian-ponder-pondech01\">C. Ponder</a>, Min</span></td><td class=\"left\">Ari</td><td class=\"hilite\">4.00</td><td>17</td><td>8</td><td>58</td><td>1</td><td>2</td><td>0</td><td>1</td><td>2</td><td>0</td><td>0</td><td>0</td><td>0</td><td>0</td><td>0</td><td>0</td><td>0</td></tr>\n",
       "<tr class=\"row1 right\"><td class=\"left\"><span class=\"hidden-xs\"><a href=\"/players/russell-wilson-wilsoru01\">Russell Wilson</a>, Sea</span><span class=\"visible-xs-inline\"><a href=\"/players/russell-wilson-wilsoru01\">R. Wilson</a>, Sea</span></td><td class=\"left\">@SF</td><td class=\"hilite\">3.00</td><td>23</td><td>9</td><td>122</td><td>0</td><td>1</td><td>0</td><td>3</td><td>10</td><td>0</td><td>0</td><td>0</td><td>0</td><td>0</td><td>0</td><td>0</td><td>0</td></tr>\n",
       "<tr class=\"row0 right\"><td class=\"left\"><span class=\"hidden-xs\"><a href=\"/players/chad-henne-hennech01\">Chad Henne</a>, Jax</span><span class=\"visible-xs-inline\"><a href=\"/players/chad-henne-hennech01\">C. Henne</a>, Jax</span></td><td class=\"left\">@Oak</td><td class=\"hilite\">2.00</td><td>20</td><td>9</td><td>71</td><td>0</td><td>0</td><td>0</td><td>3</td><td>4</td><td>0</td><td>0</td><td>0</td><td>0</td><td>0</td><td>0</td><td>0</td><td>0</td></tr>\n",
       "<tr class=\"row1 right\"><td class=\"left\"><span class=\"hidden-xs\"><a href=\"/players/tim-tebow-tebowti01\">Tim Tebow</a>, NYJ</span><span class=\"visible-xs-inline\"><a href=\"/players/tim-tebow-tebowti01\">T. Tebow</a>, NYJ</span></td><td class=\"left\">@NE</td><td class=\"hilite\">1.00</td><td>0</td><td>0</td><td>0</td><td>0</td><td>0</td><td>0</td><td>4</td><td>12</td><td>0</td><td>0</td><td>0</td><td>0</td><td>0</td><td>0</td><td>0</td><td>0</td></tr>\n",
       "<tr class=\"row0 right\"><td class=\"left\"><span class=\"hidden-xs\"><a href=\"/players/colin-kaepernick-kaepeco01\">Colin Kaepernick</a>, SF</span><span class=\"visible-xs-inline\"><a href=\"/players/colin-kaepernick-kaepeco01\">C. Kaepernick</a>, SF</span></td><td class=\"left\">Sea</td><td class=\"hilite\">0.00</td><td>0</td><td>0</td><td>0</td><td>0</td><td>0</td><td>0</td><td>1</td><td>-1</td><td>0</td><td>0</td><td>0</td><td>0</td><td>0</td><td>0</td><td>0</td><td>0</td></tr>\n",
       "<tr class=\"row1 right\"><td class=\"left\"><span class=\"hidden-xs\"><a href=\"/players/jason-campbell-campbja02\">Jason Campbell</a>, Chi</span><span class=\"visible-xs-inline\"><a href=\"/players/jason-campbell-campbja02\">J. Campbell</a>, Chi</span></td><td class=\"left\">Det</td><td class=\"hilite\">0.00</td><td>1</td><td>1</td><td>0</td><td>0</td><td>0</td><td>0</td><td>1</td><td>5</td><td>0</td><td>0</td><td>0</td><td>0</td><td>0</td><td>0</td><td>0</td><td>0</td></tr>\n",
       "</tbody>"
      ]
     },
     "execution_count": 219,
     "metadata": {},
     "output_type": "execute_result"
    }
   ],
   "source": [
    "bsobj.tbody"
   ]
  },
  {
   "cell_type": "code",
   "execution_count": 217,
   "metadata": {},
   "outputs": [],
   "source": [
    "#Parse html to obtain list of QB's competeing in rleevant week \n",
    "qb_list= []\n",
    "for item in (bsobj.tbody({'a':'href'})):\n",
    "    if '.' not in item.get_text():\n",
    "        qb_list.append(item.get_text())"
   ]
  },
  {
   "cell_type": "code",
   "execution_count": 218,
   "metadata": {},
   "outputs": [
    {
     "data": {
      "text/plain": [
       "'Alex Smith'"
      ]
     },
     "execution_count": 218,
     "metadata": {},
     "output_type": "execute_result"
    }
   ],
   "source": [
    "qb"
   ]
  },
  {
   "cell_type": "code",
   "execution_count": 202,
   "metadata": {},
   "outputs": [
    {
     "ename": "IndexError",
     "evalue": "string index out of range",
     "output_type": "error",
     "traceback": [
      "\u001b[1;31m---------------------------------------------------------------------------\u001b[0m",
      "\u001b[1;31mIndexError\u001b[0m                                Traceback (most recent call last)",
      "\u001b[1;32m<ipython-input-202-aff79cdec2f6>\u001b[0m in \u001b[0;36m<module>\u001b[1;34m()\u001b[0m\n\u001b[0;32m      1\u001b[0m \u001b[1;31m#Itearte through qb_list and make each item a key in qb dictionary\u001b[0m\u001b[1;33m\u001b[0m\u001b[1;33m\u001b[0m\u001b[0m\n\u001b[0;32m      2\u001b[0m \u001b[1;32mfor\u001b[0m \u001b[0midx\u001b[0m\u001b[1;33m,\u001b[0m\u001b[0mqb\u001b[0m \u001b[1;32min\u001b[0m \u001b[0menumerate\u001b[0m\u001b[1;33m(\u001b[0m\u001b[0mqb_list\u001b[0m\u001b[1;33m)\u001b[0m\u001b[1;33m:\u001b[0m\u001b[1;33m\u001b[0m\u001b[0m\n\u001b[1;32m----> 3\u001b[1;33m     \u001b[0mqb_dict\u001b[0m\u001b[1;33m[\u001b[0m\u001b[1;34m'qb'\u001b[0m\u001b[1;33m]\u001b[0m \u001b[1;33m=\u001b[0m \u001b[0mqb\u001b[0m\u001b[1;33m[\u001b[0m\u001b[0midx\u001b[0m\u001b[1;33m]\u001b[0m\u001b[1;33m\u001b[0m\u001b[0m\n\u001b[0m\u001b[0;32m      4\u001b[0m \u001b[1;33m\u001b[0m\u001b[0m\n",
      "\u001b[1;31mIndexError\u001b[0m: string index out of range"
     ]
    }
   ],
   "source": [
    "#Itearte through qb_list and make each item a key in qb dictionary\n",
    "for qb in qb_list:\n",
    "    qb_dict['qb']\n",
    "    "
   ]
  },
  {
   "cell_type": "code",
   "execution_count": 200,
   "metadata": {},
   "outputs": [
    {
     "ename": "KeyError",
     "evalue": "'Tony Romo'",
     "output_type": "error",
     "traceback": [
      "\u001b[1;31m---------------------------------------------------------------------------\u001b[0m",
      "\u001b[1;31mKeyError\u001b[0m                                  Traceback (most recent call last)",
      "\u001b[1;32m<ipython-input-200-a67c2c28c8df>\u001b[0m in \u001b[0;36m<module>\u001b[1;34m()\u001b[0m\n\u001b[1;32m----> 1\u001b[1;33m \u001b[0mqb_dict\u001b[0m\u001b[1;33m[\u001b[0m\u001b[1;34m'Tony Romo'\u001b[0m\u001b[1;33m]\u001b[0m\u001b[1;33m\u001b[0m\u001b[0m\n\u001b[0m",
      "\u001b[1;31mKeyError\u001b[0m: 'Tony Romo'"
     ]
    }
   ],
   "source": [
    "qb_dict['Tony Romo']"
   ]
  },
  {
   "cell_type": "code",
   "execution_count": null,
   "metadata": {
    "collapsed": true
   },
   "outputs": [],
   "source": []
  }
 ],
 "metadata": {
  "kernelspec": {
   "display_name": "Python 3",
   "language": "python",
   "name": "python3"
  },
  "language_info": {
   "codemirror_mode": {
    "name": "ipython",
    "version": 3
   },
   "file_extension": ".py",
   "mimetype": "text/x-python",
   "name": "python",
   "nbconvert_exporter": "python",
   "pygments_lexer": "ipython3",
   "version": "3.6.2"
  }
 },
 "nbformat": 4,
 "nbformat_minor": 2
}
