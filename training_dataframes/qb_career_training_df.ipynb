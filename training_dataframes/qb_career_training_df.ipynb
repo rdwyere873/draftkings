{
 "cells": [
  {
   "cell_type": "code",
   "execution_count": 1,
   "metadata": {
    "collapsed": true
   },
   "outputs": [],
   "source": [
    "import pandas as pd\n",
    "import numpy as np\n",
    "import matplotlib.pyplot as plt\n",
    "from bs4 import BeautifulSoup\n",
    "import requests\n",
    "from urllib.request import urlopen\n",
    "\n",
    "\n",
    "import seaborn as sns\n",
    "\n",
    "%matplotlib inline"
   ]
  },
  {
   "cell_type": "code",
   "execution_count": 2,
   "metadata": {
    "collapsed": true
   },
   "outputs": [],
   "source": [
    "df = pd.read_csv('../input/2012_qb_weeks1_8.csv')\n",
    "df1=pd.read_csv('../input/2012_qb_weeks_9_16.csv')\n",
    "df3 = pd.read_csv('../input/2012_qb_week17.csv')"
   ]
  },
  {
   "cell_type": "code",
   "execution_count": 3,
   "metadata": {},
   "outputs": [
    {
     "data": {
      "text/plain": [
       "(629, 18)"
      ]
     },
     "execution_count": 3,
     "metadata": {},
     "output_type": "execute_result"
    }
   ],
   "source": [
    "raw_qb_2012 = pd.concat([df,df1], axis=0)\n",
    "raw_qb_2012 = pd.concat([raw_qb_2012, df3], axis=0)\n",
    "raw_qb_2012.drop('Rk', axis =1, inplace = True)\n",
    "raw_qb_2012.shape"
   ]
  },
  {
   "cell_type": "code",
   "execution_count": 4,
   "metadata": {},
   "outputs": [
    {
     "data": {
      "text/html": [
       "<div>\n",
       "<style>\n",
       "    .dataframe thead tr:only-child th {\n",
       "        text-align: right;\n",
       "    }\n",
       "\n",
       "    .dataframe thead th {\n",
       "        text-align: left;\n",
       "    }\n",
       "\n",
       "    .dataframe tbody tr th {\n",
       "        vertical-align: top;\n",
       "    }\n",
       "</style>\n",
       "<table border=\"1\" class=\"dataframe\">\n",
       "  <thead>\n",
       "    <tr style=\"text-align: right;\">\n",
       "      <th></th>\n",
       "      <th>Player</th>\n",
       "      <th>Pos</th>\n",
       "      <th>Week</th>\n",
       "      <th>Team</th>\n",
       "      <th>Opp</th>\n",
       "      <th>Comp</th>\n",
       "      <th>Att</th>\n",
       "      <th>Pct</th>\n",
       "      <th>Yds</th>\n",
       "      <th>Yds/Att</th>\n",
       "      <th>TD</th>\n",
       "      <th>Int</th>\n",
       "      <th>QB Rating</th>\n",
       "      <th>Att.1</th>\n",
       "      <th>Yds.1</th>\n",
       "      <th>Yds/Att.1</th>\n",
       "      <th>TD.1</th>\n",
       "      <th>Fantasy Points</th>\n",
       "    </tr>\n",
       "  </thead>\n",
       "  <tbody>\n",
       "    <tr>\n",
       "      <th>0</th>\n",
       "      <td>Matt Ryan</td>\n",
       "      <td>QB</td>\n",
       "      <td>1</td>\n",
       "      <td>ATL</td>\n",
       "      <td>KC</td>\n",
       "      <td>23</td>\n",
       "      <td>31</td>\n",
       "      <td>74</td>\n",
       "      <td>299</td>\n",
       "      <td>10</td>\n",
       "      <td>3</td>\n",
       "      <td>0</td>\n",
       "      <td>136</td>\n",
       "      <td>3</td>\n",
       "      <td>25</td>\n",
       "      <td>8</td>\n",
       "      <td>1</td>\n",
       "      <td>32.46</td>\n",
       "    </tr>\n",
       "    <tr>\n",
       "      <th>1</th>\n",
       "      <td>Robert Griffin III</td>\n",
       "      <td>QB</td>\n",
       "      <td>1</td>\n",
       "      <td>WAS</td>\n",
       "      <td>NO</td>\n",
       "      <td>19</td>\n",
       "      <td>26</td>\n",
       "      <td>73</td>\n",
       "      <td>320</td>\n",
       "      <td>12</td>\n",
       "      <td>2</td>\n",
       "      <td>0</td>\n",
       "      <td>140</td>\n",
       "      <td>9</td>\n",
       "      <td>42</td>\n",
       "      <td>5</td>\n",
       "      <td>0</td>\n",
       "      <td>25.00</td>\n",
       "    </tr>\n",
       "    <tr>\n",
       "      <th>2</th>\n",
       "      <td>Tony Romo</td>\n",
       "      <td>QB</td>\n",
       "      <td>1</td>\n",
       "      <td>DAL</td>\n",
       "      <td>NYG</td>\n",
       "      <td>22</td>\n",
       "      <td>29</td>\n",
       "      <td>76</td>\n",
       "      <td>307</td>\n",
       "      <td>11</td>\n",
       "      <td>3</td>\n",
       "      <td>1</td>\n",
       "      <td>130</td>\n",
       "      <td>5</td>\n",
       "      <td>12</td>\n",
       "      <td>2</td>\n",
       "      <td>0</td>\n",
       "      <td>23.48</td>\n",
       "    </tr>\n",
       "    <tr>\n",
       "      <th>3</th>\n",
       "      <td>Aaron Rodgers</td>\n",
       "      <td>QB</td>\n",
       "      <td>1</td>\n",
       "      <td>GB</td>\n",
       "      <td>SF</td>\n",
       "      <td>30</td>\n",
       "      <td>44</td>\n",
       "      <td>68</td>\n",
       "      <td>303</td>\n",
       "      <td>7</td>\n",
       "      <td>2</td>\n",
       "      <td>1</td>\n",
       "      <td>93</td>\n",
       "      <td>5</td>\n",
       "      <td>27</td>\n",
       "      <td>5</td>\n",
       "      <td>0</td>\n",
       "      <td>22.82</td>\n",
       "    </tr>\n",
       "    <tr>\n",
       "      <th>4</th>\n",
       "      <td>Drew Brees</td>\n",
       "      <td>QB</td>\n",
       "      <td>1</td>\n",
       "      <td>NO</td>\n",
       "      <td>WAS</td>\n",
       "      <td>24</td>\n",
       "      <td>52</td>\n",
       "      <td>46</td>\n",
       "      <td>339</td>\n",
       "      <td>7</td>\n",
       "      <td>3</td>\n",
       "      <td>2</td>\n",
       "      <td>71</td>\n",
       "      <td>0</td>\n",
       "      <td>0</td>\n",
       "      <td>0</td>\n",
       "      <td>0</td>\n",
       "      <td>21.56</td>\n",
       "    </tr>\n",
       "  </tbody>\n",
       "</table>\n",
       "</div>"
      ],
      "text/plain": [
       "               Player Pos  Week Team  Opp  Comp  Att  Pct  Yds  Yds/Att  TD  \\\n",
       "0           Matt Ryan  QB     1  ATL   KC    23   31   74  299       10   3   \n",
       "1  Robert Griffin III  QB     1  WAS   NO    19   26   73  320       12   2   \n",
       "2           Tony Romo  QB     1  DAL  NYG    22   29   76  307       11   3   \n",
       "3       Aaron Rodgers  QB     1   GB   SF    30   44   68  303        7   2   \n",
       "4          Drew Brees  QB     1   NO  WAS    24   52   46  339        7   3   \n",
       "\n",
       "   Int  QB Rating  Att.1  Yds.1  Yds/Att.1  TD.1  Fantasy Points  \n",
       "0    0        136      3     25          8     1           32.46  \n",
       "1    0        140      9     42          5     0           25.00  \n",
       "2    1        130      5     12          2     0           23.48  \n",
       "3    1         93      5     27          5     0           22.82  \n",
       "4    2         71      0      0          0     0           21.56  "
      ]
     },
     "execution_count": 4,
     "metadata": {},
     "output_type": "execute_result"
    }
   ],
   "source": [
    "raw_qb_2012.head()"
   ]
  },
  {
   "cell_type": "code",
   "execution_count": 5,
   "metadata": {
    "collapsed": true
   },
   "outputs": [],
   "source": [
    "raw_qb_2012 = raw_qb_2012.rename(columns={'Att.1':'rush_att',\n",
    "                       'Yds.1':'rush_yds',\n",
    "                       'Yds/Att.1':'rush_yd/att',\n",
    "                       'TD.1':'rush_td'})"
   ]
  },
  {
   "cell_type": "code",
   "execution_count": 6,
   "metadata": {
    "collapsed": true
   },
   "outputs": [],
   "source": [
    "team_stats = raw_qb_2012.groupby(['Player','Week','Opp']).sum()"
   ]
  },
  {
   "cell_type": "code",
   "execution_count": 7,
   "metadata": {},
   "outputs": [
    {
     "data": {
      "text/plain": [
       "(                        Comp  Att  Pct  Yds  Yds/Att  TD  Int  QB Rating  \\\n",
       " Player        Week Opp                                                     \n",
       " Aaron Rodgers 1    SF     30   44   68  303        7   2    1         93   \n",
       "               2    CHI    22   32   69  219        7   1    1         85   \n",
       "               3    SEA    26   39   67  223        6   0    0         81   \n",
       "               4    NO     31   41   76  319        8   4    1        120   \n",
       "               5    IND    20   32   63  235        7   3    1        103   \n",
       " \n",
       "                         rush_att  rush_yds  rush_yd/att  rush_td  \\\n",
       " Player        Week Opp                                             \n",
       " Aaron Rodgers 1    SF          5        27            5        0   \n",
       "               2    CHI         3        -6           -2        0   \n",
       "               3    SEA         2        17            9        0   \n",
       "               4    NO          5        13            3        0   \n",
       "               5    IND         5        57           11        0   \n",
       " \n",
       "                         Fantasy Points  \n",
       " Player        Week Opp                  \n",
       " Aaron Rodgers 1    SF            22.82  \n",
       "               2    CHI           10.16  \n",
       "               3    SEA           10.62  \n",
       "               4    NO            28.06  \n",
       "               5    IND           25.10  , (629, 13))"
      ]
     },
     "execution_count": 7,
     "metadata": {},
     "output_type": "execute_result"
    }
   ],
   "source": [
    "team_stats.head(), team_stats.shape"
   ]
  },
  {
   "cell_type": "code",
   "execution_count": 8,
   "metadata": {
    "collapsed": true
   },
   "outputs": [],
   "source": [
    "# Define a dataframe to contain the career averages for all 2012 QBs\n",
    "def create_career_dataframe(df):\n",
    "    columns = []\n",
    "    for col in df.columns:\n",
    "        columns.append('{}_car'.format(col.lower()))\n",
    "    new_df = pd.DataFrame(columns=columns, index =df.index)\n",
    "    return new_df"
   ]
  },
  {
   "cell_type": "code",
   "execution_count": null,
   "metadata": {
    "collapsed": true
   },
   "outputs": [],
   "source": [
    "# Week 1 stats are player's career average through 2011 season\n",
    "# Populate current dataframe with current year averages of players\n",
    "for col in team_stats:  # Iterate through every attribute in the team_stats dataframe\n",
    "    points=[]  # Create an empty list to hold the season average of the current attribute\n",
    "    for player in team_stats.index.levels[0]:  # Iterate through every player in the team_stats df\n",
    "        total =[] # create an empty list to hold the weekly attributes value\n",
    "        for week in team_stats.loc[player].index: # Iterate throough every week for the current player\n",
    "            total.append(team_stats.loc[player].loc[week][col]) # Add player's value for the current week's attribute to the total list\n",
    "            points.append(np.mean(total))  # Add the average of the total list to the season average list\n",
    "    qb_current_2012['{}_car'.format(col.lower())] = points # Insert season average list for current attribute into the current stats dataframe\n",
    "    "
   ]
  }
 ],
 "metadata": {
  "kernelspec": {
   "display_name": "Python 3",
   "language": "python",
   "name": "python3"
  },
  "language_info": {
   "codemirror_mode": {
    "name": "ipython",
    "version": 3
   },
   "file_extension": ".py",
   "mimetype": "text/x-python",
   "name": "python",
   "nbconvert_exporter": "python",
   "pygments_lexer": "ipython3",
   "version": "3.6.2"
  }
 },
 "nbformat": 4,
 "nbformat_minor": 2
}
