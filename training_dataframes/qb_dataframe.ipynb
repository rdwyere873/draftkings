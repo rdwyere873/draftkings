{
 "cells": [
  {
   "cell_type": "code",
   "execution_count": 1,
   "metadata": {
    "collapsed": true
   },
   "outputs": [],
   "source": [
    "import pandas as pd\n",
    "import numpy as np\n",
    "import matplotlib.pyplot as plt\n",
    "\n",
    "import seaborn as sns\n",
    "\n",
    "%matplotlib inline"
   ]
  },
  {
   "cell_type": "code",
   "execution_count": 2,
   "metadata": {
    "collapsed": true
   },
   "outputs": [],
   "source": [
    "df = pd.read_csv('../input/2012_qb_weeks1_8.csv')\n",
    "df1=pd.read_csv('../input/2012_qb_weeks_9_16.csv')\n",
    "df3 = pd.read_csv('../input/2012_qb_week17.csv')"
   ]
  },
  {
   "cell_type": "code",
   "execution_count": 4,
   "metadata": {},
   "outputs": [
    {
     "data": {
      "text/plain": [
       "(629, 19)"
      ]
     },
     "execution_count": 4,
     "metadata": {},
     "output_type": "execute_result"
    }
   ],
   "source": [
    "raw_qb_2012 = pd.concat([df,df1], axis=0)\n",
    "raw_qb_2012 = pd.concat([raw_qb_2012, df3], axis=0)\n",
    "\n",
    "raw_qb_2012.shape"
   ]
  },
  {
   "cell_type": "code",
   "execution_count": 6,
   "metadata": {},
   "outputs": [],
   "source": [
    "raw_qb_2012 = raw_qb_2012.rename(columns={'Att.1':'rush_att',\n",
    "                       'Yds.1':'rush_yds',\n",
    "                       'Yds/Att.1':'rush_yd/att',\n",
    "                       'TD.1':'rush_td'})"
   ]
  },
  {
   "cell_type": "code",
   "execution_count": 7,
   "metadata": {},
   "outputs": [
    {
     "data": {
      "text/html": [
       "<div>\n",
       "<style>\n",
       "    .dataframe thead tr:only-child th {\n",
       "        text-align: right;\n",
       "    }\n",
       "\n",
       "    .dataframe thead th {\n",
       "        text-align: left;\n",
       "    }\n",
       "\n",
       "    .dataframe tbody tr th {\n",
       "        vertical-align: top;\n",
       "    }\n",
       "</style>\n",
       "<table border=\"1\" class=\"dataframe\">\n",
       "  <thead>\n",
       "    <tr style=\"text-align: right;\">\n",
       "      <th></th>\n",
       "      <th></th>\n",
       "      <th>Rk</th>\n",
       "      <th>Comp</th>\n",
       "      <th>Att</th>\n",
       "      <th>Pct</th>\n",
       "      <th>Yds</th>\n",
       "      <th>Yds/Att</th>\n",
       "      <th>TD</th>\n",
       "      <th>Int</th>\n",
       "      <th>QB Rating</th>\n",
       "      <th>rush_att</th>\n",
       "      <th>rush_yds</th>\n",
       "      <th>rush_yd/att</th>\n",
       "      <th>rush_td</th>\n",
       "      <th>Fantasy Points</th>\n",
       "    </tr>\n",
       "    <tr>\n",
       "      <th>Player</th>\n",
       "      <th>Week</th>\n",
       "      <th></th>\n",
       "      <th></th>\n",
       "      <th></th>\n",
       "      <th></th>\n",
       "      <th></th>\n",
       "      <th></th>\n",
       "      <th></th>\n",
       "      <th></th>\n",
       "      <th></th>\n",
       "      <th></th>\n",
       "      <th></th>\n",
       "      <th></th>\n",
       "      <th></th>\n",
       "      <th></th>\n",
       "    </tr>\n",
       "  </thead>\n",
       "  <tbody>\n",
       "    <tr>\n",
       "      <th rowspan=\"5\" valign=\"top\">Aaron Rodgers</th>\n",
       "      <th>1</th>\n",
       "      <td>4</td>\n",
       "      <td>30</td>\n",
       "      <td>44</td>\n",
       "      <td>68</td>\n",
       "      <td>303</td>\n",
       "      <td>7</td>\n",
       "      <td>2</td>\n",
       "      <td>1</td>\n",
       "      <td>93</td>\n",
       "      <td>5</td>\n",
       "      <td>27</td>\n",
       "      <td>5</td>\n",
       "      <td>0</td>\n",
       "      <td>22.82</td>\n",
       "    </tr>\n",
       "    <tr>\n",
       "      <th>2</th>\n",
       "      <td>65</td>\n",
       "      <td>22</td>\n",
       "      <td>32</td>\n",
       "      <td>69</td>\n",
       "      <td>219</td>\n",
       "      <td>7</td>\n",
       "      <td>1</td>\n",
       "      <td>1</td>\n",
       "      <td>85</td>\n",
       "      <td>3</td>\n",
       "      <td>-6</td>\n",
       "      <td>-2</td>\n",
       "      <td>0</td>\n",
       "      <td>10.16</td>\n",
       "    </tr>\n",
       "    <tr>\n",
       "      <th>3</th>\n",
       "      <td>97</td>\n",
       "      <td>26</td>\n",
       "      <td>39</td>\n",
       "      <td>67</td>\n",
       "      <td>223</td>\n",
       "      <td>6</td>\n",
       "      <td>0</td>\n",
       "      <td>0</td>\n",
       "      <td>81</td>\n",
       "      <td>2</td>\n",
       "      <td>17</td>\n",
       "      <td>9</td>\n",
       "      <td>0</td>\n",
       "      <td>10.62</td>\n",
       "    </tr>\n",
       "    <tr>\n",
       "      <th>4</th>\n",
       "      <td>117</td>\n",
       "      <td>31</td>\n",
       "      <td>41</td>\n",
       "      <td>76</td>\n",
       "      <td>319</td>\n",
       "      <td>8</td>\n",
       "      <td>4</td>\n",
       "      <td>1</td>\n",
       "      <td>120</td>\n",
       "      <td>5</td>\n",
       "      <td>13</td>\n",
       "      <td>3</td>\n",
       "      <td>0</td>\n",
       "      <td>28.06</td>\n",
       "    </tr>\n",
       "    <tr>\n",
       "      <th>5</th>\n",
       "      <td>155</td>\n",
       "      <td>20</td>\n",
       "      <td>32</td>\n",
       "      <td>63</td>\n",
       "      <td>235</td>\n",
       "      <td>7</td>\n",
       "      <td>3</td>\n",
       "      <td>1</td>\n",
       "      <td>103</td>\n",
       "      <td>5</td>\n",
       "      <td>57</td>\n",
       "      <td>11</td>\n",
       "      <td>0</td>\n",
       "      <td>25.10</td>\n",
       "    </tr>\n",
       "  </tbody>\n",
       "</table>\n",
       "</div>"
      ],
      "text/plain": [
       "                     Rk  Comp  Att  Pct  Yds  Yds/Att  TD  Int  QB Rating  \\\n",
       "Player        Week                                                          \n",
       "Aaron Rodgers 1       4    30   44   68  303        7   2    1         93   \n",
       "              2      65    22   32   69  219        7   1    1         85   \n",
       "              3      97    26   39   67  223        6   0    0         81   \n",
       "              4     117    31   41   76  319        8   4    1        120   \n",
       "              5     155    20   32   63  235        7   3    1        103   \n",
       "\n",
       "                    rush_att  rush_yds  rush_yd/att  rush_td  Fantasy Points  \n",
       "Player        Week                                                            \n",
       "Aaron Rodgers 1            5        27            5        0           22.82  \n",
       "              2            3        -6           -2        0           10.16  \n",
       "              3            2        17            9        0           10.62  \n",
       "              4            5        13            3        0           28.06  \n",
       "              5            5        57           11        0           25.10  "
      ]
     },
     "execution_count": 7,
     "metadata": {},
     "output_type": "execute_result"
    }
   ],
   "source": [
    "weekly_stats = raw_qb_2012.groupby(['Player', 'Week']).sum()\n",
    "weekly_stats.head()"
   ]
  },
  {
   "cell_type": "code",
   "execution_count": 8,
   "metadata": {},
   "outputs": [],
   "source": [
    "y=weekly_stats['Fantasy Points']"
   ]
  },
  {
   "cell_type": "code",
   "execution_count": 9,
   "metadata": {},
   "outputs": [],
   "source": [
    "def create_recent_dataframe(df):\n",
    "    columns = []\n",
    "    for col in df.columns:\n",
    "        columns.append('avg_{}'.format(col.lower()))\n",
    "    new_df = pd.DataFrame(columns=columns, index =df.index)\n",
    "    return new_df"
   ]
  },
  {
   "cell_type": "code",
   "execution_count": 10,
   "metadata": {},
   "outputs": [],
   "source": [
    "qb_2012_recent = create_recent_dataframe(weekly_stats)"
   ]
  },
  {
   "cell_type": "code",
   "execution_count": 11,
   "metadata": {},
   "outputs": [
    {
     "data": {
      "text/plain": [
       "(629, 14)"
      ]
     },
     "execution_count": 11,
     "metadata": {},
     "output_type": "execute_result"
    }
   ],
   "source": [
    "qb_2012_recent.shape"
   ]
  },
  {
   "cell_type": "code",
   "execution_count": 12,
   "metadata": {},
   "outputs": [],
   "source": [
    "for col in weekly_stats:\n",
    "    lst=[]\n",
    "    for player in weekly_stats.index.levels[0]:\n",
    "        total =[]\n",
    "        for week in weekly_stats.loc[player].index:\n",
    "            total.append(weekly_stats.loc[player].loc[week][col])\n",
    "            lst.append(np.mean(total))\n",
    "    qb_2012_recent['avg_{}'.format(col.lower())] = lst\n",
    "    "
   ]
  },
  {
   "cell_type": "code",
   "execution_count": 13,
   "metadata": {},
   "outputs": [
    {
     "data": {
      "text/plain": [
       "(629, 14)"
      ]
     },
     "execution_count": 13,
     "metadata": {},
     "output_type": "execute_result"
    }
   ],
   "source": [
    "qb_2012_recent.shape"
   ]
  },
  {
   "cell_type": "code",
   "execution_count": 15,
   "metadata": {
    "collapsed": true
   },
   "outputs": [],
   "source": [
    "qb_2012_recent['fantasy_points']=y"
   ]
  },
  {
   "cell_type": "code",
   "execution_count": 16,
   "metadata": {},
   "outputs": [
    {
     "data": {
      "text/html": [
       "<div>\n",
       "<style>\n",
       "    .dataframe thead tr:only-child th {\n",
       "        text-align: right;\n",
       "    }\n",
       "\n",
       "    .dataframe thead th {\n",
       "        text-align: left;\n",
       "    }\n",
       "\n",
       "    .dataframe tbody tr th {\n",
       "        vertical-align: top;\n",
       "    }\n",
       "</style>\n",
       "<table border=\"1\" class=\"dataframe\">\n",
       "  <thead>\n",
       "    <tr style=\"text-align: right;\">\n",
       "      <th></th>\n",
       "      <th></th>\n",
       "      <th>avg_rk</th>\n",
       "      <th>avg_comp</th>\n",
       "      <th>avg_att</th>\n",
       "      <th>avg_pct</th>\n",
       "      <th>avg_yds</th>\n",
       "      <th>avg_yds/att</th>\n",
       "      <th>avg_td</th>\n",
       "      <th>avg_int</th>\n",
       "      <th>avg_qb rating</th>\n",
       "      <th>avg_rush_att</th>\n",
       "      <th>avg_rush_yds</th>\n",
       "      <th>avg_rush_yd/att</th>\n",
       "      <th>avg_rush_td</th>\n",
       "      <th>avg_fantasy points</th>\n",
       "      <th>fantasy_points</th>\n",
       "    </tr>\n",
       "    <tr>\n",
       "      <th>Player</th>\n",
       "      <th>Week</th>\n",
       "      <th></th>\n",
       "      <th></th>\n",
       "      <th></th>\n",
       "      <th></th>\n",
       "      <th></th>\n",
       "      <th></th>\n",
       "      <th></th>\n",
       "      <th></th>\n",
       "      <th></th>\n",
       "      <th></th>\n",
       "      <th></th>\n",
       "      <th></th>\n",
       "      <th></th>\n",
       "      <th></th>\n",
       "      <th></th>\n",
       "    </tr>\n",
       "  </thead>\n",
       "  <tbody>\n",
       "    <tr>\n",
       "      <th rowspan=\"5\" valign=\"top\">Aaron Rodgers</th>\n",
       "      <th>1</th>\n",
       "      <td>4.000000</td>\n",
       "      <td>30.00</td>\n",
       "      <td>44.000000</td>\n",
       "      <td>68.0</td>\n",
       "      <td>303.000000</td>\n",
       "      <td>7.000000</td>\n",
       "      <td>2.00</td>\n",
       "      <td>1.000000</td>\n",
       "      <td>93.000000</td>\n",
       "      <td>5.000000</td>\n",
       "      <td>27.000000</td>\n",
       "      <td>5.00</td>\n",
       "      <td>0.0</td>\n",
       "      <td>22.820000</td>\n",
       "      <td>22.82</td>\n",
       "    </tr>\n",
       "    <tr>\n",
       "      <th>2</th>\n",
       "      <td>34.500000</td>\n",
       "      <td>26.00</td>\n",
       "      <td>38.000000</td>\n",
       "      <td>68.5</td>\n",
       "      <td>261.000000</td>\n",
       "      <td>7.000000</td>\n",
       "      <td>1.50</td>\n",
       "      <td>1.000000</td>\n",
       "      <td>89.000000</td>\n",
       "      <td>4.000000</td>\n",
       "      <td>10.500000</td>\n",
       "      <td>1.50</td>\n",
       "      <td>0.0</td>\n",
       "      <td>16.490000</td>\n",
       "      <td>10.16</td>\n",
       "    </tr>\n",
       "    <tr>\n",
       "      <th>3</th>\n",
       "      <td>55.333333</td>\n",
       "      <td>26.00</td>\n",
       "      <td>38.333333</td>\n",
       "      <td>68.0</td>\n",
       "      <td>248.333333</td>\n",
       "      <td>6.666667</td>\n",
       "      <td>1.00</td>\n",
       "      <td>0.666667</td>\n",
       "      <td>86.333333</td>\n",
       "      <td>3.333333</td>\n",
       "      <td>12.666667</td>\n",
       "      <td>4.00</td>\n",
       "      <td>0.0</td>\n",
       "      <td>14.533333</td>\n",
       "      <td>10.62</td>\n",
       "    </tr>\n",
       "    <tr>\n",
       "      <th>4</th>\n",
       "      <td>70.750000</td>\n",
       "      <td>27.25</td>\n",
       "      <td>39.000000</td>\n",
       "      <td>70.0</td>\n",
       "      <td>266.000000</td>\n",
       "      <td>7.000000</td>\n",
       "      <td>1.75</td>\n",
       "      <td>0.750000</td>\n",
       "      <td>94.750000</td>\n",
       "      <td>3.750000</td>\n",
       "      <td>12.750000</td>\n",
       "      <td>3.75</td>\n",
       "      <td>0.0</td>\n",
       "      <td>17.915000</td>\n",
       "      <td>28.06</td>\n",
       "    </tr>\n",
       "    <tr>\n",
       "      <th>5</th>\n",
       "      <td>87.600000</td>\n",
       "      <td>25.80</td>\n",
       "      <td>37.600000</td>\n",
       "      <td>68.6</td>\n",
       "      <td>259.800000</td>\n",
       "      <td>7.000000</td>\n",
       "      <td>2.00</td>\n",
       "      <td>0.800000</td>\n",
       "      <td>96.400000</td>\n",
       "      <td>4.000000</td>\n",
       "      <td>21.600000</td>\n",
       "      <td>5.20</td>\n",
       "      <td>0.0</td>\n",
       "      <td>19.352000</td>\n",
       "      <td>25.10</td>\n",
       "    </tr>\n",
       "  </tbody>\n",
       "</table>\n",
       "</div>"
      ],
      "text/plain": [
       "                       avg_rk  avg_comp    avg_att  avg_pct     avg_yds  \\\n",
       "Player        Week                                                        \n",
       "Aaron Rodgers 1      4.000000     30.00  44.000000     68.0  303.000000   \n",
       "              2     34.500000     26.00  38.000000     68.5  261.000000   \n",
       "              3     55.333333     26.00  38.333333     68.0  248.333333   \n",
       "              4     70.750000     27.25  39.000000     70.0  266.000000   \n",
       "              5     87.600000     25.80  37.600000     68.6  259.800000   \n",
       "\n",
       "                    avg_yds/att  avg_td   avg_int  avg_qb rating  \\\n",
       "Player        Week                                                 \n",
       "Aaron Rodgers 1        7.000000    2.00  1.000000      93.000000   \n",
       "              2        7.000000    1.50  1.000000      89.000000   \n",
       "              3        6.666667    1.00  0.666667      86.333333   \n",
       "              4        7.000000    1.75  0.750000      94.750000   \n",
       "              5        7.000000    2.00  0.800000      96.400000   \n",
       "\n",
       "                    avg_rush_att  avg_rush_yds  avg_rush_yd/att  avg_rush_td  \\\n",
       "Player        Week                                                             \n",
       "Aaron Rodgers 1         5.000000     27.000000             5.00          0.0   \n",
       "              2         4.000000     10.500000             1.50          0.0   \n",
       "              3         3.333333     12.666667             4.00          0.0   \n",
       "              4         3.750000     12.750000             3.75          0.0   \n",
       "              5         4.000000     21.600000             5.20          0.0   \n",
       "\n",
       "                    avg_fantasy points  fantasy_points  \n",
       "Player        Week                                      \n",
       "Aaron Rodgers 1              22.820000           22.82  \n",
       "              2              16.490000           10.16  \n",
       "              3              14.533333           10.62  \n",
       "              4              17.915000           28.06  \n",
       "              5              19.352000           25.10  "
      ]
     },
     "execution_count": 16,
     "metadata": {},
     "output_type": "execute_result"
    }
   ],
   "source": [
    "qb_2012_recent.head()"
   ]
  },
  {
   "cell_type": "code",
   "execution_count": null,
   "metadata": {
    "collapsed": true
   },
   "outputs": [],
   "source": []
  }
 ],
 "metadata": {
  "kernelspec": {
   "display_name": "Python 3",
   "language": "python",
   "name": "python3"
  },
  "language_info": {
   "codemirror_mode": {
    "name": "ipython",
    "version": 3
   },
   "file_extension": ".py",
   "mimetype": "text/x-python",
   "name": "python",
   "nbconvert_exporter": "python",
   "pygments_lexer": "ipython3",
   "version": "3.6.2"
  }
 },
 "nbformat": 4,
 "nbformat_minor": 2
}
