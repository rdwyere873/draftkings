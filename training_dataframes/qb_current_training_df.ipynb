{
 "cells": [
  {
   "cell_type": "code",
   "execution_count": 1,
   "metadata": {
    "collapsed": true
   },
   "outputs": [],
   "source": [
    "import pandas as pd\n",
    "import numpy as np\n",
    "import matplotlib.pyplot as plt\n",
    "from bs4 import BeautifulSoup\n",
    "import requests\n",
    "from urllib.request import urlopen\n",
    "\n",
    "\n",
    "import seaborn as sns\n",
    "\n",
    "%matplotlib inline"
   ]
  },
  {
   "cell_type": "code",
   "execution_count": 2,
   "metadata": {
    "collapsed": true
   },
   "outputs": [],
   "source": [
    "df = pd.read_csv('../input/2012_qb_weeks1_8.csv')\n",
    "df1=pd.read_csv('../input/2012_qb_weeks_9_16.csv')\n",
    "df3 = pd.read_csv('../input/2012_qb_week17.csv')"
   ]
  },
  {
   "cell_type": "code",
   "execution_count": 3,
   "metadata": {},
   "outputs": [
    {
     "data": {
      "text/plain": [
       "(629, 18)"
      ]
     },
     "execution_count": 3,
     "metadata": {},
     "output_type": "execute_result"
    }
   ],
   "source": [
    "raw_qb_2012 = pd.concat([df,df1], axis=0)\n",
    "raw_qb_2012 = pd.concat([raw_qb_2012, df3], axis=0)\n",
    "raw_qb_2012.drop('Rk', axis =1, inplace = True)\n",
    "raw_qb_2012.shape"
   ]
  },
  {
   "cell_type": "code",
   "execution_count": 4,
   "metadata": {},
   "outputs": [
    {
     "data": {
      "text/html": [
       "<div>\n",
       "<style>\n",
       "    .dataframe thead tr:only-child th {\n",
       "        text-align: right;\n",
       "    }\n",
       "\n",
       "    .dataframe thead th {\n",
       "        text-align: left;\n",
       "    }\n",
       "\n",
       "    .dataframe tbody tr th {\n",
       "        vertical-align: top;\n",
       "    }\n",
       "</style>\n",
       "<table border=\"1\" class=\"dataframe\">\n",
       "  <thead>\n",
       "    <tr style=\"text-align: right;\">\n",
       "      <th></th>\n",
       "      <th>Player</th>\n",
       "      <th>Pos</th>\n",
       "      <th>Week</th>\n",
       "      <th>Team</th>\n",
       "      <th>Opp</th>\n",
       "      <th>Comp</th>\n",
       "      <th>Att</th>\n",
       "      <th>Pct</th>\n",
       "      <th>Yds</th>\n",
       "      <th>Yds/Att</th>\n",
       "      <th>TD</th>\n",
       "      <th>Int</th>\n",
       "      <th>QB Rating</th>\n",
       "      <th>Att.1</th>\n",
       "      <th>Yds.1</th>\n",
       "      <th>Yds/Att.1</th>\n",
       "      <th>TD.1</th>\n",
       "      <th>Fantasy Points</th>\n",
       "    </tr>\n",
       "  </thead>\n",
       "  <tbody>\n",
       "    <tr>\n",
       "      <th>0</th>\n",
       "      <td>Matt Ryan</td>\n",
       "      <td>QB</td>\n",
       "      <td>1</td>\n",
       "      <td>ATL</td>\n",
       "      <td>KC</td>\n",
       "      <td>23</td>\n",
       "      <td>31</td>\n",
       "      <td>74</td>\n",
       "      <td>299</td>\n",
       "      <td>10</td>\n",
       "      <td>3</td>\n",
       "      <td>0</td>\n",
       "      <td>136</td>\n",
       "      <td>3</td>\n",
       "      <td>25</td>\n",
       "      <td>8</td>\n",
       "      <td>1</td>\n",
       "      <td>32.46</td>\n",
       "    </tr>\n",
       "    <tr>\n",
       "      <th>1</th>\n",
       "      <td>Robert Griffin III</td>\n",
       "      <td>QB</td>\n",
       "      <td>1</td>\n",
       "      <td>WAS</td>\n",
       "      <td>NO</td>\n",
       "      <td>19</td>\n",
       "      <td>26</td>\n",
       "      <td>73</td>\n",
       "      <td>320</td>\n",
       "      <td>12</td>\n",
       "      <td>2</td>\n",
       "      <td>0</td>\n",
       "      <td>140</td>\n",
       "      <td>9</td>\n",
       "      <td>42</td>\n",
       "      <td>5</td>\n",
       "      <td>0</td>\n",
       "      <td>25.00</td>\n",
       "    </tr>\n",
       "    <tr>\n",
       "      <th>2</th>\n",
       "      <td>Tony Romo</td>\n",
       "      <td>QB</td>\n",
       "      <td>1</td>\n",
       "      <td>DAL</td>\n",
       "      <td>NYG</td>\n",
       "      <td>22</td>\n",
       "      <td>29</td>\n",
       "      <td>76</td>\n",
       "      <td>307</td>\n",
       "      <td>11</td>\n",
       "      <td>3</td>\n",
       "      <td>1</td>\n",
       "      <td>130</td>\n",
       "      <td>5</td>\n",
       "      <td>12</td>\n",
       "      <td>2</td>\n",
       "      <td>0</td>\n",
       "      <td>23.48</td>\n",
       "    </tr>\n",
       "    <tr>\n",
       "      <th>3</th>\n",
       "      <td>Aaron Rodgers</td>\n",
       "      <td>QB</td>\n",
       "      <td>1</td>\n",
       "      <td>GB</td>\n",
       "      <td>SF</td>\n",
       "      <td>30</td>\n",
       "      <td>44</td>\n",
       "      <td>68</td>\n",
       "      <td>303</td>\n",
       "      <td>7</td>\n",
       "      <td>2</td>\n",
       "      <td>1</td>\n",
       "      <td>93</td>\n",
       "      <td>5</td>\n",
       "      <td>27</td>\n",
       "      <td>5</td>\n",
       "      <td>0</td>\n",
       "      <td>22.82</td>\n",
       "    </tr>\n",
       "    <tr>\n",
       "      <th>4</th>\n",
       "      <td>Drew Brees</td>\n",
       "      <td>QB</td>\n",
       "      <td>1</td>\n",
       "      <td>NO</td>\n",
       "      <td>WAS</td>\n",
       "      <td>24</td>\n",
       "      <td>52</td>\n",
       "      <td>46</td>\n",
       "      <td>339</td>\n",
       "      <td>7</td>\n",
       "      <td>3</td>\n",
       "      <td>2</td>\n",
       "      <td>71</td>\n",
       "      <td>0</td>\n",
       "      <td>0</td>\n",
       "      <td>0</td>\n",
       "      <td>0</td>\n",
       "      <td>21.56</td>\n",
       "    </tr>\n",
       "  </tbody>\n",
       "</table>\n",
       "</div>"
      ],
      "text/plain": [
       "               Player Pos  Week Team  Opp  Comp  Att  Pct  Yds  Yds/Att  TD  \\\n",
       "0           Matt Ryan  QB     1  ATL   KC    23   31   74  299       10   3   \n",
       "1  Robert Griffin III  QB     1  WAS   NO    19   26   73  320       12   2   \n",
       "2           Tony Romo  QB     1  DAL  NYG    22   29   76  307       11   3   \n",
       "3       Aaron Rodgers  QB     1   GB   SF    30   44   68  303        7   2   \n",
       "4          Drew Brees  QB     1   NO  WAS    24   52   46  339        7   3   \n",
       "\n",
       "   Int  QB Rating  Att.1  Yds.1  Yds/Att.1  TD.1  Fantasy Points  \n",
       "0    0        136      3     25          8     1           32.46  \n",
       "1    0        140      9     42          5     0           25.00  \n",
       "2    1        130      5     12          2     0           23.48  \n",
       "3    1         93      5     27          5     0           22.82  \n",
       "4    2         71      0      0          0     0           21.56  "
      ]
     },
     "execution_count": 4,
     "metadata": {},
     "output_type": "execute_result"
    }
   ],
   "source": [
    "raw_qb_2012.head()"
   ]
  },
  {
   "cell_type": "code",
   "execution_count": 16,
   "metadata": {
    "collapsed": true
   },
   "outputs": [],
   "source": [
    "# url=('https://www.foxsports.com/nfl/story/2012-nfl-full-regular-season-schedule-041712')\n",
    "# html = urlopen(url)\n",
    "# bsobj= BeautifulSoup(html, 'lxml')"
   ]
  },
  {
   "cell_type": "code",
   "execution_count": 17,
   "metadata": {
    "collapsed": true
   },
   "outputs": [],
   "source": [
    "# dates = soup.find_all(\"div\", class_=\"flex-article-content\")\n"
   ]
  },
  {
   "cell_type": "code",
   "execution_count": 5,
   "metadata": {
    "collapsed": true
   },
   "outputs": [],
   "source": [
    "raw_qb_2012 = raw_qb_2012.rename(columns={'Att.1':'rush_att',\n",
    "                       'Yds.1':'rush_yds',\n",
    "                       'Yds/Att.1':'rush_yd/att',\n",
    "                       'TD.1':'rush_td'})"
   ]
  },
  {
   "cell_type": "code",
   "execution_count": 6,
   "metadata": {
    "collapsed": true
   },
   "outputs": [],
   "source": [
    "team_stats = raw_qb_2012.groupby(['Player','Week','Opp']).sum()"
   ]
  },
  {
   "cell_type": "code",
   "execution_count": 7,
   "metadata": {},
   "outputs": [
    {
     "data": {
      "text/plain": [
       "(                        Comp  Att  Pct  Yds  Yds/Att  TD  Int  QB Rating  \\\n",
       " Player        Week Opp                                                     \n",
       " Aaron Rodgers 1    SF     30   44   68  303        7   2    1         93   \n",
       "               2    CHI    22   32   69  219        7   1    1         85   \n",
       "               3    SEA    26   39   67  223        6   0    0         81   \n",
       "               4    NO     31   41   76  319        8   4    1        120   \n",
       "               5    IND    20   32   63  235        7   3    1        103   \n",
       " \n",
       "                         rush_att  rush_yds  rush_yd/att  rush_td  \\\n",
       " Player        Week Opp                                             \n",
       " Aaron Rodgers 1    SF          5        27            5        0   \n",
       "               2    CHI         3        -6           -2        0   \n",
       "               3    SEA         2        17            9        0   \n",
       "               4    NO          5        13            3        0   \n",
       "               5    IND         5        57           11        0   \n",
       " \n",
       "                         Fantasy Points  \n",
       " Player        Week Opp                  \n",
       " Aaron Rodgers 1    SF            22.82  \n",
       "               2    CHI           10.16  \n",
       "               3    SEA           10.62  \n",
       "               4    NO            28.06  \n",
       "               5    IND           25.10  , (629, 13))"
      ]
     },
     "execution_count": 7,
     "metadata": {},
     "output_type": "execute_result"
    }
   ],
   "source": [
    "team_stats.head(), team_stats.shape"
   ]
  },
  {
   "cell_type": "code",
   "execution_count": 8,
   "metadata": {
    "collapsed": true
   },
   "outputs": [],
   "source": [
    "# Define a dataframe to contain the current year averages of all 2012 QBs\n",
    "def create_current_dataframe(df):\n",
    "    columns = []\n",
    "    for col in df.columns:\n",
    "        columns.append('avg_{}'.format(col.lower()))\n",
    "    new_df = pd.DataFrame(columns=columns, index =df.index)\n",
    "    return new_df"
   ]
  },
  {
   "cell_type": "code",
   "execution_count": 9,
   "metadata": {
    "collapsed": true
   },
   "outputs": [],
   "source": [
    "qb_current_2012 = create_current_dataframe(team_stats)"
   ]
  },
  {
   "cell_type": "code",
   "execution_count": 23,
   "metadata": {
    "collapsed": true
   },
   "outputs": [],
   "source": [
    "# Populate current dataframe with current year averages of players\n",
    "# DO NOT CHANGE!!!!!!\n",
    "for col in team_stats:  # Iterate through every attribute in the team_stats dataframe\n",
    "    points=[]  # Create an empty list to hold the season average of the current attribute\n",
    "    for player in team_stats.index.levels[0]:  # Iterate through every player in the team_stats df\n",
    "        total =[] # create an empty list to hold the weekly attributes value\n",
    "        for week in team_stats.loc[player].index: # Iterate throough every week for the current player\n",
    "            total.append(team_stats.loc[player].loc[week][col]) # Add player's value for the current week's attribute to the total list\n",
    "            points.append(np.mean(total))  # Add the average of the total list to the season average list\n",
    "    qb_current_2012['avg_{}'.format(col.lower())] = points # Insert season average list for current attribute into the current stats dataframe\n",
    "    "
   ]
  },
  {
   "cell_type": "code",
   "execution_count": 24,
   "metadata": {},
   "outputs": [
    {
     "data": {
      "text/html": [
       "<div>\n",
       "<style>\n",
       "    .dataframe thead tr:only-child th {\n",
       "        text-align: right;\n",
       "    }\n",
       "\n",
       "    .dataframe thead th {\n",
       "        text-align: left;\n",
       "    }\n",
       "\n",
       "    .dataframe tbody tr th {\n",
       "        vertical-align: top;\n",
       "    }\n",
       "</style>\n",
       "<table border=\"1\" class=\"dataframe\">\n",
       "  <thead>\n",
       "    <tr style=\"text-align: right;\">\n",
       "      <th></th>\n",
       "      <th></th>\n",
       "      <th></th>\n",
       "      <th>avg_comp</th>\n",
       "      <th>avg_att</th>\n",
       "      <th>avg_pct</th>\n",
       "      <th>avg_yds</th>\n",
       "      <th>avg_yds/att</th>\n",
       "      <th>avg_td</th>\n",
       "      <th>avg_int</th>\n",
       "      <th>avg_qb rating</th>\n",
       "      <th>avg_rush_att</th>\n",
       "      <th>avg_rush_yds</th>\n",
       "      <th>avg_rush_yd/att</th>\n",
       "      <th>avg_rush_td</th>\n",
       "      <th>avg_fantasy points</th>\n",
       "    </tr>\n",
       "    <tr>\n",
       "      <th>Player</th>\n",
       "      <th>Week</th>\n",
       "      <th>Opp</th>\n",
       "      <th></th>\n",
       "      <th></th>\n",
       "      <th></th>\n",
       "      <th></th>\n",
       "      <th></th>\n",
       "      <th></th>\n",
       "      <th></th>\n",
       "      <th></th>\n",
       "      <th></th>\n",
       "      <th></th>\n",
       "      <th></th>\n",
       "      <th></th>\n",
       "      <th></th>\n",
       "    </tr>\n",
       "  </thead>\n",
       "  <tbody>\n",
       "    <tr>\n",
       "      <th rowspan=\"5\" valign=\"top\">Aaron Rodgers</th>\n",
       "      <th>1</th>\n",
       "      <th>SF</th>\n",
       "      <td>30.00</td>\n",
       "      <td>44.000000</td>\n",
       "      <td>68.0</td>\n",
       "      <td>303.000000</td>\n",
       "      <td>7.000000</td>\n",
       "      <td>2.00</td>\n",
       "      <td>1.000000</td>\n",
       "      <td>93.000000</td>\n",
       "      <td>5.000000</td>\n",
       "      <td>27.000000</td>\n",
       "      <td>5.00</td>\n",
       "      <td>0.0</td>\n",
       "      <td>22.820000</td>\n",
       "    </tr>\n",
       "    <tr>\n",
       "      <th>2</th>\n",
       "      <th>CHI</th>\n",
       "      <td>26.00</td>\n",
       "      <td>38.000000</td>\n",
       "      <td>68.5</td>\n",
       "      <td>261.000000</td>\n",
       "      <td>7.000000</td>\n",
       "      <td>1.50</td>\n",
       "      <td>1.000000</td>\n",
       "      <td>89.000000</td>\n",
       "      <td>4.000000</td>\n",
       "      <td>10.500000</td>\n",
       "      <td>1.50</td>\n",
       "      <td>0.0</td>\n",
       "      <td>16.490000</td>\n",
       "    </tr>\n",
       "    <tr>\n",
       "      <th>3</th>\n",
       "      <th>SEA</th>\n",
       "      <td>26.00</td>\n",
       "      <td>38.333333</td>\n",
       "      <td>68.0</td>\n",
       "      <td>248.333333</td>\n",
       "      <td>6.666667</td>\n",
       "      <td>1.00</td>\n",
       "      <td>0.666667</td>\n",
       "      <td>86.333333</td>\n",
       "      <td>3.333333</td>\n",
       "      <td>12.666667</td>\n",
       "      <td>4.00</td>\n",
       "      <td>0.0</td>\n",
       "      <td>14.533333</td>\n",
       "    </tr>\n",
       "    <tr>\n",
       "      <th>4</th>\n",
       "      <th>NO</th>\n",
       "      <td>27.25</td>\n",
       "      <td>39.000000</td>\n",
       "      <td>70.0</td>\n",
       "      <td>266.000000</td>\n",
       "      <td>7.000000</td>\n",
       "      <td>1.75</td>\n",
       "      <td>0.750000</td>\n",
       "      <td>94.750000</td>\n",
       "      <td>3.750000</td>\n",
       "      <td>12.750000</td>\n",
       "      <td>3.75</td>\n",
       "      <td>0.0</td>\n",
       "      <td>17.915000</td>\n",
       "    </tr>\n",
       "    <tr>\n",
       "      <th>5</th>\n",
       "      <th>IND</th>\n",
       "      <td>25.80</td>\n",
       "      <td>37.600000</td>\n",
       "      <td>68.6</td>\n",
       "      <td>259.800000</td>\n",
       "      <td>7.000000</td>\n",
       "      <td>2.00</td>\n",
       "      <td>0.800000</td>\n",
       "      <td>96.400000</td>\n",
       "      <td>4.000000</td>\n",
       "      <td>21.600000</td>\n",
       "      <td>5.20</td>\n",
       "      <td>0.0</td>\n",
       "      <td>19.352000</td>\n",
       "    </tr>\n",
       "  </tbody>\n",
       "</table>\n",
       "</div>"
      ],
      "text/plain": [
       "                        avg_comp    avg_att  avg_pct     avg_yds  avg_yds/att  \\\n",
       "Player        Week Opp                                                          \n",
       "Aaron Rodgers 1    SF      30.00  44.000000     68.0  303.000000     7.000000   \n",
       "              2    CHI     26.00  38.000000     68.5  261.000000     7.000000   \n",
       "              3    SEA     26.00  38.333333     68.0  248.333333     6.666667   \n",
       "              4    NO      27.25  39.000000     70.0  266.000000     7.000000   \n",
       "              5    IND     25.80  37.600000     68.6  259.800000     7.000000   \n",
       "\n",
       "                        avg_td   avg_int  avg_qb rating  avg_rush_att  \\\n",
       "Player        Week Opp                                                  \n",
       "Aaron Rodgers 1    SF     2.00  1.000000      93.000000      5.000000   \n",
       "              2    CHI    1.50  1.000000      89.000000      4.000000   \n",
       "              3    SEA    1.00  0.666667      86.333333      3.333333   \n",
       "              4    NO     1.75  0.750000      94.750000      3.750000   \n",
       "              5    IND    2.00  0.800000      96.400000      4.000000   \n",
       "\n",
       "                        avg_rush_yds  avg_rush_yd/att  avg_rush_td  \\\n",
       "Player        Week Opp                                               \n",
       "Aaron Rodgers 1    SF      27.000000             5.00          0.0   \n",
       "              2    CHI     10.500000             1.50          0.0   \n",
       "              3    SEA     12.666667             4.00          0.0   \n",
       "              4    NO      12.750000             3.75          0.0   \n",
       "              5    IND     21.600000             5.20          0.0   \n",
       "\n",
       "                        avg_fantasy points  \n",
       "Player        Week Opp                      \n",
       "Aaron Rodgers 1    SF            22.820000  \n",
       "              2    CHI           16.490000  \n",
       "              3    SEA           14.533333  \n",
       "              4    NO            17.915000  \n",
       "              5    IND           19.352000  "
      ]
     },
     "execution_count": 24,
     "metadata": {},
     "output_type": "execute_result"
    }
   ],
   "source": [
    "qb_current_2012.head()"
   ]
  },
  {
   "cell_type": "code",
   "execution_count": null,
   "metadata": {
    "collapsed": true
   },
   "outputs": [],
   "source": []
  }
 ],
 "metadata": {
  "kernelspec": {
   "display_name": "Python 3",
   "language": "python",
   "name": "python3"
  },
  "language_info": {
   "codemirror_mode": {
    "name": "ipython",
    "version": 3
   },
   "file_extension": ".py",
   "mimetype": "text/x-python",
   "name": "python",
   "nbconvert_exporter": "python",
   "pygments_lexer": "ipython3",
   "version": "3.6.2"
  }
 },
 "nbformat": 4,
 "nbformat_minor": 2
}
