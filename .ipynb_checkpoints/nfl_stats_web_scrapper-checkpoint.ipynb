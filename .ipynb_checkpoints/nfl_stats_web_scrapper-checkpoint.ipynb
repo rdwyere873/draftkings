{
 "cells": [
  {
   "cell_type": "code",
   "execution_count": 1,
   "metadata": {
    "collapsed": true
   },
   "outputs": [],
   "source": [
    "from urllib.request import urlopen\n",
    "import requests\n",
    "from bs4 import BeautifulSoup\n",
    "import pandas as pd"
   ]
  },
  {
   "cell_type": "code",
   "execution_count": 2,
   "metadata": {
    "collapsed": true
   },
   "outputs": [],
   "source": [
    "pos = ['QB', 'RB', 'WR', 'TE', 'DST', 'K']\n",
    "wk = ['1','2','3','4', '5','6','7','8','9','10','11','12','13','14','15','16','17']\n",
    "sea = ['2012', '2013','2014','2015','2016']\n"
   ]
  },
  {
   "cell_type": "code",
   "execution_count": null,
   "metadata": {
    "collapsed": true
   },
   "outputs": [],
   "source": [
    "#defining a qb\n",
    "qb_id = 1\n",
    "qb_name = qb_list[idx] for idx,name in enumerate(qb_list)"
   ]
  },
  {
   "cell_type": "code",
   "execution_count": 4,
   "metadata": {},
   "outputs": [],
   "source": [
    "html= urlopen('http://www.footballdb.com/fantasy-football/index.html?pos=QB&yr=2012&wk=1&rules=1')\n",
    "bsobj= BeautifulSoup(html, 'lxml')\n"
   ]
  },
  {
   "cell_type": "code",
   "execution_count": 229,
   "metadata": {},
   "outputs": [
    {
     "data": {
      "text/plain": [
       "3"
      ]
     },
     "execution_count": 229,
     "metadata": {},
     "output_type": "execute_result"
    }
   ],
   "source": [
    "len(bsobj)"
   ]
  },
  {
   "cell_type": "code",
   "execution_count": 5,
   "metadata": {
    "collapsed": true
   },
   "outputs": [],
   "source": [
    "#create dictionary of QB's and stats for relevant week\n",
    "qb_dict= {\n",
    "        'qb':\n",
    "            {\n",
    "                'ff_pts':'pts',\n",
    "                'passing':['att', 'cmp', 'yds', 'tds', 'int', '2pt'],\n",
    "                'rushing': ['att', 'yds', 'tds', '2pt'],\n",
    "                'recieving':['rec', 'yds', 'tds', '2pt'],\n",
    "                'fumbles': 'fl',\n",
    "                'versus':'def'\n",
    "            }\n",
    "}"
   ]
  },
  {
   "cell_type": "code",
   "execution_count": 6,
   "metadata": {
    "collapsed": true
   },
   "outputs": [],
   "source": [
    "qb_dict = {'matt_ryan':{\n",
    "                        'ffpt': 37.0,\n",
    "                        'fl':0,\n",
    "                        'passing':[31.0, 23.0, 99.0, 3, 0, 0],\n",
    "                        'rushing':[3, 25.0, 1.0, 0],\n",
    "                        'receiving':[0.0, 0.0, 0.0, 0.0]\n",
    "                        }\n",
    "            }"
   ]
  },
  {
   "cell_type": "code",
   "execution_count": 7,
   "metadata": {},
   "outputs": [
    {
     "data": {
      "text/plain": [
       "float"
      ]
     },
     "execution_count": 7,
     "metadata": {},
     "output_type": "execute_result"
    }
   ],
   "source": [
    "type(qb_dict['matt_ryan']['ffpt'])"
   ]
  },
  {
   "cell_type": "code",
   "execution_count": 8,
   "metadata": {
    "collapsed": true
   },
   "outputs": [],
   "source": [
    "#Parse html to obtain list of QB's competeing in rleevant week \n",
    "qb_list= []\n",
    "for item in (bsobj.tbody({'a':'href'})):\n",
    "    if '.' not in item.get_text():\n",
    "        qb_list.append(item.get_text())"
   ]
  },
  {
   "cell_type": "code",
   "execution_count": 9,
   "metadata": {},
   "outputs": [
    {
     "data": {
      "text/plain": [
       "['Matt Ryan',\n",
       " 'Tony Romo',\n",
       " 'Robert Griffin III',\n",
       " 'Drew Brees',\n",
       " 'Mark Sanchez',\n",
       " 'Aaron Rodgers',\n",
       " 'Peyton Manning',\n",
       " 'Blaine Gabbert',\n",
       " 'Joe Flacco',\n",
       " 'Jay Cutler',\n",
       " 'Alex Smith',\n",
       " 'Tom Brady',\n",
       " 'Michael Vick',\n",
       " 'Ben Roethlisberger',\n",
       " 'Carson Palmer',\n",
       " 'Ryan Fitzpatrick',\n",
       " 'Matt Cassel',\n",
       " 'Matt Schaub',\n",
       " 'Philip Rivers',\n",
       " 'Matthew Stafford',\n",
       " 'Cam Newton',\n",
       " 'Eli Manning',\n",
       " 'Jake Locker',\n",
       " 'Sam Bradford',\n",
       " 'Josh Freeman',\n",
       " 'Russell Wilson',\n",
       " 'Andrew Luck',\n",
       " 'Christian Ponder',\n",
       " 'Kevin Kolb',\n",
       " 'Andy Dalton',\n",
       " 'John Skelton',\n",
       " 'Ryan Tannehill',\n",
       " 'Tim Tebow',\n",
       " 'Tyrod Taylor',\n",
       " 'Colin Kaepernick',\n",
       " 'Matt Hasselbeck',\n",
       " 'Bruce Gradkowski',\n",
       " 'Brandon Weeden']"
      ]
     },
     "execution_count": 9,
     "metadata": {},
     "output_type": "execute_result"
    }
   ],
   "source": [
    "qb_list"
   ]
  },
  {
   "cell_type": "code",
   "execution_count": 10,
   "metadata": {},
   "outputs": [
    {
     "data": {
      "text/plain": [
       "'Matt Ryan'"
      ]
     },
     "execution_count": 10,
     "metadata": {},
     "output_type": "execute_result"
    }
   ],
   "source": [
    "qb_dict = qb:"
   ]
  },
  {
   "cell_type": "code",
   "execution_count": null,
   "metadata": {
    "collapsed": true
   },
   "outputs": [],
   "source": []
  }
 ],
 "metadata": {
  "kernelspec": {
   "display_name": "Python 3",
   "language": "python",
   "name": "python3"
  },
  "language_info": {
   "codemirror_mode": {
    "name": "ipython",
    "version": 3
   },
   "file_extension": ".py",
   "mimetype": "text/x-python",
   "name": "python",
   "nbconvert_exporter": "python",
   "pygments_lexer": "ipython3",
   "version": "3.6.1"
  }
 },
 "nbformat": 4,
 "nbformat_minor": 2
}
