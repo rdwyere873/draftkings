{
 "cells": [
  {
   "cell_type": "code",
   "execution_count": 129,
   "metadata": {
    "collapsed": true
   },
   "outputs": [],
   "source": [
    "from urllib.request import urlopen\n",
    "import requests\n",
    "from bs4 import BeautifulSoup\n",
    "import pandas as pd"
   ]
  },
  {
   "cell_type": "code",
   "execution_count": 203,
   "metadata": {
    "collapsed": true
   },
   "outputs": [],
   "source": [
    "pos = ['QB', 'RB', 'WR', 'TE', 'DST', 'K']\n",
    "wk = ['1','2','3','4', '5','6','7','8','9','10','11','12','13','14','15','16','17']\n",
    "sea = ['2012', '2013','2014','2015','2016']\n"
   ]
  },
  {
   "cell_type": "code",
   "execution_count": 221,
   "metadata": {
    "collapsed": true
   },
   "outputs": [],
   "source": [
    "for idx,wk in enumerate(wk):\n",
    "    html_wk= urlopen('http://www.footballdb.com/fantasy-football/index.html?pos=QB&yr=2012&wk={}&rules=1'.format(wk))\n",
    "    bsobj[idx]= BeautifulSoup(html_wk, 'lxml')\n",
    "    break"
   ]
  },
  {
   "cell_type": "code",
   "execution_count": 229,
   "metadata": {},
   "outputs": [
    {
     "data": {
      "text/plain": [
       "3"
      ]
     },
     "execution_count": 229,
     "metadata": {},
     "output_type": "execute_result"
    }
   ],
   "source": [
    "len(bsobj)"
   ]
  },
  {
   "cell_type": "code",
   "execution_count": 134,
   "metadata": {
    "collapsed": true
   },
   "outputs": [],
   "source": [
    "#create dictionary of QB's and stats for relevant week\n",
    "qb_dict= {\n",
    "        'qb':\n",
    "            {\n",
    "                'ff_pts':'pts',\n",
    "                'passing':['att', 'cmp', 'yds', 'tds', 'int', '2pt'],\n",
    "                'rushing': ['att', 'yds', 'tds', '2pt'],\n",
    "                'recieving':['rec', 'yds', 'tds', '2pt'],\n",
    "                'fumbles': 'fl',\n",
    "                'versus':'def'\n",
    "            }\n",
    "}"
   ]
  },
  {
   "cell_type": "code",
   "execution_count": 136,
   "metadata": {
    "collapsed": true
   },
   "outputs": [],
   "source": [
    "qb_dict = {'matt_ryan':{\n",
    "                        'ffpt': 37.0,\n",
    "                        'fl':0,\n",
    "                        'passing':[31.0, 23.0, 99.0, 3, 0, 0],\n",
    "                        'rushing':[3, 25.0, 1.0, 0],\n",
    "                        'receiving':[0.0, 0.0, 0.0, 0.0]\n",
    "                        }\n",
    "            }"
   ]
  },
  {
   "cell_type": "code",
   "execution_count": 48,
   "metadata": {},
   "outputs": [
    {
     "data": {
      "text/plain": [
       "float"
      ]
     },
     "execution_count": 48,
     "metadata": {},
     "output_type": "execute_result"
    }
   ],
   "source": [
    "type(qb_dict['matt_ryan']['ffpt'])"
   ]
  },
  {
   "cell_type": "code",
   "execution_count": 217,
   "metadata": {
    "collapsed": true
   },
   "outputs": [],
   "source": [
    "#Parse html to obtain list of QB's competeing in rleevant week \n",
    "qb_list= []\n",
    "for item in (bsobj.tbody({'a':'href'})):\n",
    "    if '.' not in item.get_text():\n",
    "        qb_list.append(item.get_text())"
   ]
  },
  {
   "cell_type": "code",
   "execution_count": 218,
   "metadata": {},
   "outputs": [
    {
     "data": {
      "text/plain": [
       "'Alex Smith'"
      ]
     },
     "execution_count": 218,
     "metadata": {},
     "output_type": "execute_result"
    }
   ],
   "source": [
    "qb"
   ]
  },
  {
   "cell_type": "code",
   "execution_count": null,
   "metadata": {
    "collapsed": true
   },
   "outputs": [],
   "source": []
  }
 ],
 "metadata": {
  "kernelspec": {
   "display_name": "Python 3",
   "language": "python",
   "name": "python3"
  },
  "language_info": {
   "codemirror_mode": {
    "name": "ipython",
    "version": 3
   },
   "file_extension": ".py",
   "mimetype": "text/x-python",
   "name": "python",
   "nbconvert_exporter": "python",
   "pygments_lexer": "ipython3",
   "version": "3.6.1"
  }
 },
 "nbformat": 4,
 "nbformat_minor": 2
}
